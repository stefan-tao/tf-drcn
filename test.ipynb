{
 "cells": [
  {
   "cell_type": "code",
   "execution_count": 4,
   "metadata": {},
   "outputs": [],
   "source": [
    "import gzip\n",
    "import scipy\n",
    "import pickle\n",
    "import numpy as np\n",
    "import skimage\n",
    "import os\n",
    "\n",
    "dataset = os.path.join(\"/home/wogong/Datasets/mnist\", \"mnist.pkl.gz\")\n",
    "f = gzip.open(dataset,'rb')\n",
    "#train_set, valid_set, test_set = pickle.load(f)\n",
    "train_set, valid_set, test_set = pickle.load(f)\n",
    "f.close()\n",
    "\n",
    "train_set_x, train_set_y = train_set\n",
    "test_set_x, test_set_y = test_set\n",
    "valid_set_x, valid_set_y = valid_set\n",
    "  \n",
    "train_set_y = train_set_y.astype('uint8')\n",
    "test_set_y = test_set_y.astype('uint8')\n",
    "valid_set_y = valid_set_y.astype('uint8')\n",
    "\n",
    "# Reshape to [n, d1, d2, c]\n",
    "c = 1\n",
    "d1 = 28\n",
    "d2 = 28\n",
    "ntrain = train_set_x.shape[0]\n",
    "nvalid = valid_set_x.shape[0]\n",
    "ntest = test_set_x.shape[0]\n",
    "\n",
    "train_set_x = np.reshape(train_set_x, (ntrain, d1, d2, c)).astype('float32')\n",
    "valid_set_x = np.reshape(valid_set_x, (nvalid, d1, d2, c)).astype('float32')\n",
    "test_set_x = np.reshape(test_set_x, (ntest, d1, d2, c)).astype('float32')\n",
    "\n",
    "new_shape = (32, 32, 1)\n",
    "train_set_x_new = np.empty(shape=(ntrain,) + new_shape)\n",
    "valid_set_x_new = np.empty(shape=(nvalid,) + new_shape)\n",
    "test_set_x_new = np.empty(shape=(ntest,) + new_shape)\n",
    "\n",
    "for idx in range(ntrain):\n",
    "    train_set_x_new[idx] = skimage.transform.resize(train_set_x[idx], new_shape)\n",
    "for idx in range(nvalid):\n",
    "    valid_set_x_new[idx] = skimage.transform.resize(valid_set_x[idx], new_shape)\n",
    "for idx in range(ntest):\n",
    "    test_set_x_new[idx] = skimage.transform.resize(test_set_x[idx], new_shape)"
   ]
  },
  {
   "cell_type": "code",
   "execution_count": null,
   "metadata": {},
   "outputs": [],
   "source": [
    "import numpy as np\n",
    "import matplotlib.pyplot as plt\n",
    "import matplotlib.image as mpimg\n",
    "\n",
    "a = train_set_x[0].squeeze()\n",
    "a\n",
    "# plt.imshow(a, cmap='gray')\n",
    "# plt.show()\n",
    "# grayImage.shape\n",
    "# y_train[0]\n"
   ]
  },
  {
   "cell_type": "code",
   "execution_count": 139,
   "metadata": {},
   "outputs": [],
   "source": [
    "import gzip\n",
    "\n",
    "import pickle\n",
    "import numpy as np\n",
    "\n",
    "dataset = os.path.join(\"/home/wogong/Datasets/svhn\", \"svhn.pkl.gz\")\n",
    "f = gzip.open(dataset, 'rb')\n",
    "data = pickle.load(f)\n",
    "f.close()\n",
    "\n",
    "\n",
    "X_train = data['train_dataset'].astype('float32')\n",
    "y_train = data['train_labels'].astype('uint8') \n",
    "X_test = data['test_dataset'].astype('float32')\n",
    "y_test = data['test_labels'].astype('uint8') \n",
    "\n",
    "\n",
    "# # Reshaep to [n, d1, d2, c]\n",
    "# c = 1\n",
    "# d1 = 32\n",
    "# d2 = 32\n",
    "# ntrain = X_train.shape[0]\n",
    "# ntest = X_test.shape[0]\n",
    "\n",
    "# X_train = np.reshape(X_train, (ntrain, d1, d2, c)).astype('float32')\n",
    "# X_test = np.reshape(X_test, (ntest, d1, d2, c)).astype('float32')"
   ]
  },
  {
   "cell_type": "code",
   "execution_count": 6,
   "metadata": {},
   "outputs": [
    {
     "ename": "NameError",
     "evalue": "name 'X_train' is not defined",
     "output_type": "error",
     "traceback": [
      "\u001b[0;31m---------------------------------------------------------------------------\u001b[0m",
      "\u001b[0;31mNameError\u001b[0m                                 Traceback (most recent call last)",
      "\u001b[0;32m<ipython-input-6-4f6be388edb1>\u001b[0m in \u001b[0;36m<module>\u001b[0;34m()\u001b[0m\n\u001b[1;32m      3\u001b[0m \u001b[0;32mimport\u001b[0m \u001b[0mmatplotlib\u001b[0m\u001b[0;34m.\u001b[0m\u001b[0mimage\u001b[0m \u001b[0;32mas\u001b[0m \u001b[0mmpimg\u001b[0m\u001b[0;34m\u001b[0m\u001b[0m\n\u001b[1;32m      4\u001b[0m \u001b[0;34m\u001b[0m\u001b[0m\n\u001b[0;32m----> 5\u001b[0;31m \u001b[0ma\u001b[0m \u001b[0;34m=\u001b[0m \u001b[0mX_train\u001b[0m\u001b[0;34m[\u001b[0m\u001b[0;36m0\u001b[0m\u001b[0;34m]\u001b[0m\u001b[0;34m.\u001b[0m\u001b[0msqueeze\u001b[0m\u001b[0;34m(\u001b[0m\u001b[0;34m)\u001b[0m\u001b[0;34m\u001b[0m\u001b[0m\n\u001b[0m\u001b[1;32m      6\u001b[0m \u001b[0mplt\u001b[0m\u001b[0;34m.\u001b[0m\u001b[0mimshow\u001b[0m\u001b[0;34m(\u001b[0m\u001b[0ma\u001b[0m\u001b[0;34m,\u001b[0m \u001b[0mcmap\u001b[0m\u001b[0;34m=\u001b[0m\u001b[0;34m'gray'\u001b[0m\u001b[0;34m)\u001b[0m\u001b[0;34m\u001b[0m\u001b[0m\n\u001b[1;32m      7\u001b[0m \u001b[0mplt\u001b[0m\u001b[0;34m.\u001b[0m\u001b[0mshow\u001b[0m\u001b[0;34m(\u001b[0m\u001b[0;34m)\u001b[0m\u001b[0;34m\u001b[0m\u001b[0m\n",
      "\u001b[0;31mNameError\u001b[0m: name 'X_train' is not defined"
     ]
    }
   ],
   "source": [
    "\n",
    "\n",
    "a = X_train[0].squeeze()\n",
    "plt.imshow(a, cmap='gray')\n",
    "plt.show()\n",
    "grayImage.shape\n",
    "y_train[0]"
   ]
  },
  {
   "cell_type": "code",
   "execution_count": 16,
   "metadata": {},
   "outputs": [],
   "source": [
    "import gzip\n",
    "\n",
    "import pickle\n",
    "import numpy as np\n",
    "\n",
    "dataset = os.path.join(\"/home/wogong/Datasets/svhn\", \"svhn_test.pkl.gz\")\n",
    "f = gzip.open(dataset, 'rb')\n",
    "#train_set, valid_set, test_set = pickle.load(f)\n",
    "a = pickle.load(f)\n",
    "f.close()"
   ]
  },
  {
   "cell_type": "code",
   "execution_count": 118,
   "metadata": {},
   "outputs": [
    {
     "data": {
      "image/png": "[encoded data removed]",
      "text/plain": [
       "<Figure size 432x288 with 1 Axes>"
      ]
     },
     "metadata": {
      "needs_background": "light"
     },
     "output_type": "display_data"
    },
    {
     "data": {
      "text/plain": [
       "(145, 348)"
      ]
     },
     "execution_count": 118,
     "metadata": {},
     "output_type": "execute_result"
    }
   ],
   "source": [
    "import numpy as np\n",
    "import matplotlib.pyplot as plt\n",
    "import matplotlib.image as mpimg\n",
    "\n",
    "def rgb2gray(rgb):\n",
    "    return numpy.dot(rgb[...,:3], [0.2989, 0.5870, 0.1140])/256.0\n",
    "\n",
    "def rgb_to_gray(img):\n",
    "        grayImage = np.zeros(img.shape)\n",
    "        R = np.array(img[:, :, 0])\n",
    "        G = np.array(img[:, :, 1])\n",
    "        B = np.array(img[:, :, 2])\n",
    "\n",
    "        R = (R *.299)\n",
    "        G = (G *.587)\n",
    "        B = (B *.114)\n",
    "\n",
    "        Avg = (R+G+B)\n",
    "        grayImage = img\n",
    "\n",
    "        for i in range(3):\n",
    "           grayImage[:,:,i] = Avg\n",
    "\n",
    "        return grayImage       \n",
    "\n",
    "image = mpimg.imread(\"google.png\")\n",
    "image.shape\n",
    "grayImage = rgb2gray(image)  \n",
    "plt.imshow(grayImage, cmap='gray')\n",
    "plt.show()\n",
    "grayImage.shape"
   ]
  },
  {
   "cell_type": "code",
   "execution_count": 116,
   "metadata": {},
   "outputs": [
    {
     "data": {
      "image/png": "[encoded data removed]",
      "text/plain": [
       "<Figure size 432x288 with 1 Axes>"
      ]
     },
     "metadata": {
      "needs_background": "light"
     },
     "output_type": "display_data"
    },
    {
     "data": {
      "text/plain": [
       "(145, 348)"
      ]
     },
     "execution_count": 116,
     "metadata": {},
     "output_type": "execute_result"
    }
   ],
   "source": [
    "import numpy as np\n",
    "import matplotlib.pyplot as plt\n",
    "from PIL import Image\n",
    "\n",
    "fname = 'google.png'\n",
    "image = Image.open(fname).convert(\"L\")\n",
    "arr = np.asarray(image)\n",
    "plt.imshow(arr, cmap='gray')\n",
    "plt.show()\n",
    "arr.shape"
   ]
  },
  {
   "cell_type": "code",
   "execution_count": 58,
   "metadata": {},
   "outputs": [],
   "source": [
    "\n",
    "\"\"\"\n",
    "Load MNIST handwritten digit images in 32x32.\n",
    "\n",
    "Return:\n",
    "(train_input, train_output), (validation_input, validation_output), (test_input, test_output)\n",
    "\n",
    "in [n, d1, d2, c] format\n",
    "\"\"\"\n",
    "\n",
    "# Load images, in [n, c, d1, d2\n",
    "dataset=\"/home/wogong/Datasets/mnist/mnist.pkl.gz\"\n",
    "f = gzip.open(dataset,'rb')\n",
    "train_set, valid_set, test_set = pickle.load(f)\n",
    "f.close()\n",
    "\n",
    "train_set_x, train_set_y = train_set\n",
    "test_set_x, test_set_y = test_set\n",
    "valid_set_x, valid_set_y = valid_set\n",
    "\n",
    "train_set_y = train_set_y.astype('uint8')\n",
    "test_set_y = test_set_y.astype('uint8')\n",
    "valid_set_y = valid_set_y.astype('uint8')\n",
    "\n",
    "# Reshape to [n, d1, d2, c]\n",
    "c = 1\n",
    "d1 = 28\n",
    "d2 = 28\n",
    "ntrain = train_set_x.shape[0]\n",
    "nvalid = valid_set_x.shape[0]\n",
    "ntest = test_set_x.shape[0]\n",
    "\n",
    "train_set_x = np.reshape(train_set_x, (ntrain, d1, d2, c)).astype('float32')\n",
    "valid_set_x = np.reshape(valid_set_x, (nvalid, d1, d2, c)).astype('float32')\n",
    "test_set_x = np.reshape(test_set_x, (ntest, d1, d2, c)).astype('float32')\n",
    "\n",
    "new_shape = (32, 32, 1)\n",
    "train_set_x_new = np.empty(shape=(ntrain,) + new_shape)\n",
    "valid_set_x_new = np.empty(shape=(nvalid,) + new_shape)\n",
    "test_set_x_new = np.empty(shape=(ntest,) + new_shape)\n",
    "\n",
    "for idx in range(ntrain):\n",
    "    train_set_x_new[idx] = skimage.transform.resize(train_set_x[idx], new_shape)\n",
    "for idx in range(nvalid):\n",
    "    valid_set_x_new[idx] = skimage.transform.resize(valid_set_x[idx], new_shape)\n",
    "for idx in range(ntest):\n",
    "    test_set_x_new[idx] = skimage.transform.resize(test_set_x[idx], new_shape)\n",
    "\n",
    "train_mask = np.isin(train_set_y, [0,1,2,3,4])\n",
    "valid_mask = np.isin(valid_set_y, [0,1,2,3,4])\n",
    "test_mask = np.isin(test_set_y, [0,1,2,3,4])\n",
    "\n",
    "X_train, Y_train = train_set_x_new[train_mask], train_set_y[train_mask]\n",
    "X_valid, Y_valid = valid_set_x_new[valid_mask], valid_set_y[valid_mask]\n",
    "X_test, Y_test = test_set_x_new[test_mask], test_set_y[test_mask]"
   ]
  },
  {
   "cell_type": "code",
   "execution_count": 56,
   "metadata": {},
   "outputs": [
    {
     "name": "stdout",
     "output_type": "stream",
     "text": [
      "(10000, 32, 32, 1)\n",
      "(5058, 32, 32, 1)\n",
      "(5058,)\n"
     ]
    }
   ],
   "source": [
    "print test_set_x_new.shape\n",
    "print test_set_x_new.shape\n",
    "print X_test.shape\n",
    "print Y_test.shape\n"
   ]
  },
  {
   "cell_type": "code",
   "execution_count": 71,
   "metadata": {},
   "outputs": [
    {
     "data": {
      "image/png": "[encoded data removed]",
      "text/plain": [
       "<Figure size 432x288 with 1 Axes>"
      ]
     },
     "metadata": {
      "needs_background": "light"
     },
     "output_type": "display_data"
    },
    {
     "name": "stdout",
     "output_type": "stream",
     "text": [
      "1\n"
     ]
    }
   ],
   "source": [
    "import random\n",
    "import numpy as np\n",
    "import matplotlib.pyplot as plt\n",
    "from PIL import Image\n",
    "\n",
    "id = random.randint(0,Y_test.shape[0])\n",
    "a = X_test[id].squeeze()\n",
    "plt.imshow(a, cmap='gray')\n",
    "plt.show()\n",
    "print Y_test[id]"
   ]
  },
  {
   "cell_type": "code",
   "execution_count": 73,
   "metadata": {},
   "outputs": [
    {
     "name": "stdout",
     "output_type": "stream",
     "text": [
      "[8, 6, 1, 0, 7]\n"
     ]
    }
   ],
   "source": [
    "import random\n",
    "random_ids = random.sample(range(0,9), 5 )\n",
    "print random_ids"
   ]
  }
 ],
 "metadata": {
  "kernelspec": {
   "display_name": "py2-tf",
   "language": "python",
   "name": "py2-tf"
  },
  "language_info": {
   "codemirror_mode": {
    "name": "ipython",
    "version": 2
   },
   "file_extension": ".py",
   "mimetype": "text/x-python",
   "name": "python",
   "nbconvert_exporter": "python",
   "pygments_lexer": "ipython2",
   "version": "2.7.15"
  }
 },
 "nbformat": 4,
 "nbformat_minor": 2
}
